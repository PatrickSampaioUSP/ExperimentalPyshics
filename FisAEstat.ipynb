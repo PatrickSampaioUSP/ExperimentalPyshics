{
  "nbformat": 4,
  "nbformat_minor": 0,
  "metadata": {
    "colab": {
      "name": "FisAEstat.ipynb",
      "provenance": [],
      "collapsed_sections": [],
      "include_colab_link": true
    },
    "kernelspec": {
      "name": "python3",
      "display_name": "Python 3"
    }
  },
  "cells": [
    {
      "cell_type": "markdown",
      "metadata": {
        "id": "view-in-github",
        "colab_type": "text"
      },
      "source": [
        "<a href=\"https://colab.research.google.com/github/PatrickSampaioUSP/ExperimentalPyshics/blob/master/FisAEstat.ipynb\" target=\"_parent\"><img src=\"https://colab.research.google.com/assets/colab-badge.svg\" alt=\"Open In Colab\"/></a>"
      ]
    },
    {
      "cell_type": "markdown",
      "metadata": {
        "id": "WsQqhMV2fU13",
        "colab_type": "text"
      },
      "source": [
        "# Manual de Incertezas e cálculos\n",
        "\n",
        "### Desvio Padrão\n",
        "\n",
        "O desvio padrão mede a variância dos resultados.\n",
        "\n",
        "Pode-se estimar o desvio padrão através da fórmula seguinte:\n",
        "\n",
        "$s = \\sqrt{\\frac{1}{N-1}\\sum_{i=1}^N(x_i - m)^2}$\n",
        "\n",
        "- $N$ é a quantidade de medidas na amostra.\n",
        "- $m$ é a média da amostra.\n",
        "\n",
        "A interpretação do Desvio Padrão é o intervalo no qual ao mínimo 68.3% das medidas estão localizadas."
      ]
    },
    {
      "cell_type": "code",
      "metadata": {
        "id": "EIVHpPqMfVHP",
        "colab_type": "code",
        "outputId": "e0aa2905-f15e-4b91-b4a0-efebbace8b4a",
        "colab": {
          "base_uri": "https://localhost:8080/",
          "height": 87
        }
      },
      "source": [
        "import numpy as np\n",
        "from math import sqrt\n",
        "n = 3\n",
        "#data = np.random.rand(n,1)\n",
        "data = [0.29, 0.30, 0.28]\n",
        "\n",
        "calc_std = np.std(data)\n",
        "mean = np.mean(data)\n",
        "\n",
        "distance_of_points_to_mean = [(x - mean)**2 for x in data]\n",
        "somation = sum(distance_of_points_to_mean)\n",
        "form_std = sqrt((1/(n -1))*(somation))\n",
        "\n",
        "mean_std = calc_std/sqrt(n)\n",
        "\n",
        "results = {'np calc std':calc_std, 'manual calc std':form_std, 'mean':mean, 'mean_std':mean_std}\n",
        "results"
      ],
      "execution_count": 0,
      "outputs": [
        {
          "output_type": "execute_result",
          "data": {
            "text/plain": [
              "{'manual calc std': 0.009999999999999981,\n",
              " 'mean': 0.29,\n",
              " 'mean_std': 0.004714045207910308,\n",
              " 'np calc std': 0.008164965809277244}"
            ]
          },
          "metadata": {
            "tags": []
          },
          "execution_count": 36
        }
      ]
    },
    {
      "cell_type": "markdown",
      "metadata": {
        "id": "lz_qhX0lhSd7",
        "colab_type": "text"
      },
      "source": [
        "### Desvio Padrão da Média"
      ]
    },
    {
      "cell_type": "markdown",
      "metadata": {
        "id": "aUn9Pie83A11",
        "colab_type": "text"
      },
      "source": [
        "### **Incerteza**\n",
        "\n",
        "Antes de explicarmos mais afundo sobre a incerteza, é importante pensarmos um pouco sobre as casas decimais. Vamos supor um exemplo, o número 2.68, caso a gente expresse a incerteza da medida como 0.005, não estariamos fazendo nada na realidade, pois não há tal casa decimal no número, por consequência não estariamos mudando em nada este número. Portanto a incerteza não pode ter mais casas decimais do que a própria medida.\n",
        "\n",
        "Exemplos:\n",
        "\n",
        "- 1.8820  + 0.79 = 2.67\n",
        "- 7.538  - 0.7 = 6.8\n",
        "\n",
        "Toda forma de medida e instrumento de medição esta sujeito à incerteza, e devemos nos atentar a como podemos expressar essas incertezas. Por via de regra, a incerteza de um instrumento será a metade da sua menor medida, i.e a incerteza de um micrometro é 0.005 em mm, a incerteza de uma regua milimetrada seria 0.5 e assim por diante.\n",
        "\n",
        "#### Propagação de incertezas\n",
        "\n",
        "Fórmula geral para propagação de incertezas\n",
        "\n",
        "$\\boxed{\\sigma_w^2 = (\\frac{\\partial W}{\\partial x})^2\\sigma_x^2 + (\\frac{\\partial W}{\\partial y})^2\\sigma_y^2 + (\\frac{\\partial W}{\\partial z})^2\\sigma_z^2 + \\dots{}}$\n",
        "\n",
        "Um exemplo numérico:\n",
        "\n",
        "Dada as medidas:\n",
        "\n",
        "- 8,0 +- 0.5\n",
        "- 12 +- 2\n",
        "\n",
        "A somatória destes elementos fica:\n",
        "\n",
        "- 12 + 8 = 20\n",
        "- $\\sqrt(0.5^2 + 2^2) = 2.06 = 2$\n",
        "\n",
        "Resultado = 20 +- 2"
      ]
    },
    {
      "cell_type": "code",
      "metadata": {
        "id": "r_-ZyoGU5yaL",
        "colab_type": "code",
        "outputId": "58a3a546-8f5e-4d6b-b5e7-ee822b2c6198",
        "colab": {
          "base_uri": "https://localhost:8080/",
          "height": 35
        }
      },
      "source": [
        "from math import sqrt\n",
        "from decimal import Decimal\n",
        "\n",
        "def equalize_decimal_places(a, b, cases=None):\n",
        "  if not cases:\n",
        "    cases = abs(Decimal(str(a)).as_tuple().exponent)\n",
        "  return round(b, cases)\n",
        "\n",
        "def sum_measures(a, b):\n",
        "  final_measure = {'value': None, 'uncertainty':None}\n",
        "  final_measure['value'] = a['value'] + b['value']\n",
        "\n",
        "  final_measure['uncertainty'] = sqrt(a['uncertainty']**2 + b['uncertainty']**2)\n",
        "  final_measure['uncertainty'] = equalize_decimal_places(final_measure['value'], final_measure['uncertainty'])\n",
        "  return final_measure\n",
        "\n",
        "def subtract(a, b):\n",
        "  final_measure = {'value': None, 'uncertainty':None}\n",
        "  final_measure['value'] = a['value'] - b['value']\n",
        "\n",
        "  final_measure['uncertainty'] = sqrt(a['uncertainty']**2 + b['uncertainty']**2)\n",
        "  final_measure['uncertainty'] = equalize_decimal_places(final_measure['value'], final_measure['uncertainty'])\n",
        "  return final_measure\n",
        "\n",
        "def multplication(list_of_measures, factor, cases=None):\n",
        "  uncertainty = 0\n",
        "  integral_value = list_of_measures[0]['value']\n",
        "\n",
        "  for idx, measure in enumerate(list_of_measures):\n",
        "    uncertainty += (measure['uncertainty']/measure['value'])**2\n",
        "    if idx ==0:\n",
        "      continue\n",
        "    integral_value = integral_value * measure['value']\n",
        "  \n",
        "  integral_value = round(factor*integral_value, cases) if cases is not None else factor*integral_value\n",
        "  \n",
        "  result = {'value': None, 'uncertainty':None}\n",
        "  result['value'] = integral_value if cases is None else round(integral_value, cases)\n",
        "  result['uncertainty'] = sqrt(uncertainty)*result['value']\n",
        "  result['uncertainty'] = equalize_decimal_places(result['value'], result['uncertainty'], cases)\n",
        "  return result\n",
        "\n",
        "def division(a, b, cases=None):\n",
        "  final_measure = {'value': None, 'uncertainty':None}\n",
        "  final_measure['value'] = a['value'] / b['value']\n",
        "  final_measure['value'] = final_measure['value'] if cases is None else round(final_measure['value'], cases)\n",
        "\n",
        "  final_measure['uncertainty'] = sqrt((a['uncertainty']/a['value'])**2 + (b['uncertainty']/b['value'])**2)*final_measure['value']\n",
        "  final_measure['uncertainty'] = equalize_decimal_places(final_measure['value'], final_measure['uncertainty'], cases)\n",
        "  return final_measure\n",
        "\n",
        "\n",
        "first_measure = {'value':6.8, 'uncertainty':0.5}\n",
        "second_measure = {'value':16.2, 'uncertainty':0.5}\n",
        "\n",
        "sum_measures(first_measure, second_measure)"
      ],
      "execution_count": 0,
      "outputs": [
        {
          "output_type": "execute_result",
          "data": {
            "text/plain": [
              "{'uncertainty': 0.7, 'value': 23.0}"
            ]
          },
          "metadata": {
            "tags": []
          },
          "execution_count": 9
        }
      ]
    },
    {
      "cell_type": "code",
      "metadata": {
        "id": "hKv0dYMr6ru_",
        "colab_type": "code",
        "outputId": "c4168e40-327b-4009-94e1-860a5a90e06a",
        "colab": {
          "base_uri": "https://localhost:8080/",
          "height": 35
        }
      },
      "source": [
        "first_measure = {'value':19.4, 'uncertainty':0.4}\n",
        "second_measure = {'value':7.6, 'uncertainty':0.3}\n",
        "\n",
        "sum_measures(fAirst_measure, second_measure)"
      ],
      "execution_count": 0,
      "outputs": [
        {
          "output_type": "execute_result",
          "data": {
            "text/plain": [
              "{'uncertainty': 0.5, 'value': 27.0}"
            ]
          },
          "metadata": {
            "tags": []
          },
          "execution_count": 22
        }
      ]
    },
    {
      "cell_type": "code",
      "metadata": {
        "id": "3GBKenrh7J6q",
        "colab_type": "code",
        "outputId": "68a22d6b-b447-4aeb-d20e-4113e6bbf1a4",
        "colab": {
          "base_uri": "https://localhost:8080/",
          "height": 35
        }
      },
      "source": [
        "first_measure = {'value':107.0, 'uncertainty':1.4}\n",
        "second_measure = {'value':56.7, 'uncertainty':2.3}\n",
        "\n",
        "subtract(first_measure, second_measure)"
      ],
      "execution_count": 0,
      "outputs": [
        {
          "output_type": "execute_result",
          "data": {
            "text/plain": [
              "{'uncertainty': 2.7, 'value': 50.3}"
            ]
          },
          "metadata": {
            "tags": []
          },
          "execution_count": 23
        }
      ]
    },
    {
      "cell_type": "code",
      "metadata": {
        "id": "y-Dxd8fO7evq",
        "colab_type": "code",
        "outputId": "b50fb3e8-bc33-4a46-b354-3fcae0348cd4",
        "colab": {
          "base_uri": "https://localhost:8080/",
          "height": 35
        }
      },
      "source": [
        "first_measure = {'value':0.1431, 'uncertainty':0.001}\n",
        "second_measure = {'value':0.0844, 'uncertainty':0.0045}\n",
        "\n",
        "subtract(first_measure, second_measure)"
      ],
      "execution_count": 0,
      "outputs": [
        {
          "output_type": "execute_result",
          "data": {
            "text/plain": [
              "{'uncertainty': 0.0046, 'value': 0.0587}"
            ]
          },
          "metadata": {
            "tags": []
          },
          "execution_count": 24
        }
      ]
    },
    {
      "cell_type": "code",
      "metadata": {
        "id": "6cKGjQ2qBTO-",
        "colab_type": "code",
        "outputId": "fb38fca3-feeb-4adb-80c2-6576ddb6b508",
        "colab": {
          "base_uri": "https://localhost:8080/",
          "height": 35
        }
      },
      "source": [
        "first_measure = {'value':63.37, 'uncertainty':0.05}\n",
        "second_measure = {'value':0.1290, 'uncertainty':0.0050}\n",
        "\n",
        "subtract(first_measure, second_measure)"
      ],
      "execution_count": 0,
      "outputs": [
        {
          "output_type": "execute_result",
          "data": {
            "text/plain": [
              "{'uncertainty': 0.05, 'value': 63.241}"
            ]
          },
          "metadata": {
            "tags": []
          },
          "execution_count": 117
        }
      ]
    },
    {
      "cell_type": "code",
      "metadata": {
        "id": "jJPcULqtA6fm",
        "colab_type": "code",
        "outputId": "04469109-e5cc-4a9d-ae46-62cacf738e8f",
        "colab": {
          "base_uri": "https://localhost:8080/",
          "height": 35
        }
      },
      "source": [
        "first_measure = {'value':15.94, 'uncertainty':0.05}\n",
        "second_measure = {'value':0.99, 'uncertainty':0.06}\n",
        "\n",
        "multplication([first_measure, second_measure], 1, 2)"
      ],
      "execution_count": 0,
      "outputs": [
        {
          "output_type": "execute_result",
          "data": {
            "text/plain": [
              "{'uncertainty': 0.96, 'value': 15.78}"
            ]
          },
          "metadata": {
            "tags": []
          },
          "execution_count": 74
        }
      ]
    },
    {
      "cell_type": "code",
      "metadata": {
        "id": "8YWG00JlCBIr",
        "colab_type": "code",
        "outputId": "3407b4fa-bde6-43b1-8eb9-3ffb8a0ba424",
        "colab": {
          "base_uri": "https://localhost:8080/",
          "height": 35
        }
      },
      "source": [
        "from math import pi\n",
        "first_measure = {'value':19.34, 'uncertainty':0.09}\n",
        "second_measure = {'value':35.35, 'uncertainty':0.09}\n",
        "\n",
        "division(first_measure, second_measure, 4)"
      ],
      "execution_count": 0,
      "outputs": [
        {
          "output_type": "execute_result",
          "data": {
            "text/plain": [
              "{'uncertainty': 0.0029, 'value': 0.5471}"
            ]
          },
          "metadata": {
            "tags": []
          },
          "execution_count": 2
        }
      ]
    },
    {
      "cell_type": "code",
      "metadata": {
        "id": "LwjrhleiDbH-",
        "colab_type": "code",
        "outputId": "1097bfe3-58f1-4ed8-a368-129f4b98f906",
        "colab": {
          "base_uri": "https://localhost:8080/",
          "height": 35
        }
      },
      "source": [
        "from math import pi\n",
        "\n",
        "first_measure = {'value':0.023, 'uncertainty':0.002}\n",
        "second_measure = {'value':3.6, 'uncertainty':0.2}\n",
        "third_measure = {'value':0.9, 'uncertainty': 0}\n",
        "\n",
        "multplication([first_measure, second_measure, third_measure], 6*pi, 4)"
      ],
      "execution_count": 0,
      "outputs": [
        {
          "output_type": "execute_result",
          "data": {
            "text/plain": [
              "{'uncertainty': 0.1449, 'value': 1.4047}"
            ]
          },
          "metadata": {
            "tags": []
          },
          "execution_count": 106
        }
      ]
    },
    {
      "cell_type": "code",
      "metadata": {
        "id": "W_ouz6JxEMCy",
        "colab_type": "code",
        "outputId": "09625ab6-ef14-40c7-cb83-171ecbdaed0b",
        "colab": {
          "base_uri": "https://localhost:8080/",
          "height": 35
        }
      },
      "source": [
        "from math import pi\n",
        "first_measure = {'value':1, 'uncertainty':0}\n",
        "second_measure = {'value':60.00 , 'uncertainty':0.01}\n",
        "\n",
        "division(first_measure, second_measure)"
      ],
      "execution_count": 0,
      "outputs": [
        {
          "output_type": "execute_result",
          "data": {
            "text/plain": [
              "{'uncertainty': 2.777777777778e-06, 'value': 0.016666666666666666}"
            ]
          },
          "metadata": {
            "tags": []
          },
          "execution_count": 3
        }
      ]
    },
    {
      "cell_type": "code",
      "metadata": {
        "id": "IDgWG7qAEZe0",
        "colab_type": "code",
        "outputId": "422152b5-933e-451f-f05c-d46785405cba",
        "colab": {
          "base_uri": "https://localhost:8080/",
          "height": 35
        }
      },
      "source": [
        "from math import pi\n",
        "\n",
        "first_measure = {'value':15.16, 'uncertainty':0.09}\n",
        "second_measure = {'value':0.56, 'uncertainty':0.04}\n",
        "\n",
        "multplication([first_measure, second_measure], 1, 2)"
      ],
      "execution_count": 0,
      "outputs": [
        {
          "output_type": "execute_result",
          "data": {
            "text/plain": [
              "{'uncertainty': 0.61, 'value': 8.49}"
            ]
          },
          "metadata": {
            "tags": []
          },
          "execution_count": 114
        }
      ]
    },
    {
      "cell_type": "code",
      "metadata": {
        "id": "MdjOwD2iJTwR",
        "colab_type": "code",
        "outputId": "65ebc741-7df3-40bd-b446-9d87de05c4b7",
        "colab": {
          "base_uri": "https://localhost:8080/",
          "height": 35
        }
      },
      "source": [
        "from math import pi\n",
        "\n",
        "first_measure = {'value':7.50, 'uncertainty':0.01}\n",
        "\n",
        "multplication([first_measure], pi, 2)"
      ],
      "execution_count": 0,
      "outputs": [
        {
          "output_type": "execute_result",
          "data": {
            "text/plain": [
              "{'uncertainty': 0.03, 'value': 23.56}"
            ]
          },
          "metadata": {
            "tags": []
          },
          "execution_count": 119
        }
      ]
    },
    {
      "cell_type": "markdown",
      "metadata": {
        "id": "el6BdbCn0exq",
        "colab_type": "text"
      },
      "source": [
        "## Experimento da Gravidade"
      ]
    },
    {
      "cell_type": "markdown",
      "metadata": {
        "id": "I9mQuFT10lVx",
        "colab_type": "text"
      },
      "source": [
        "##### Incerteza do tempo\n",
        "\n",
        "Está se utilizando de uma rede eletrica emitindo faiscas em um ovo que realiza um movimento de descida em relação à um trilho, cada faisca possui $\\frac{1}{60}$ de intervalo de tempo, todavia, é necessário calcular-se a incerteza do tempo em relação à medida, que é calculado pela seguinte formula:\n",
        "\n",
        "$\\sigma_{t} = \\frac{\\sigma_f}{f^2}$\n"
      ]
    },
    {
      "cell_type": "code",
      "metadata": {
        "id": "pAgJQ_oB0iAk",
        "colab_type": "code",
        "outputId": "3e3bb1fa-a183-4418-99c2-1ad3a744c56b",
        "colab": {
          "base_uri": "https://localhost:8080/",
          "height": 87
        }
      },
      "source": [
        "from math import pi\n",
        "first_measure = {'value':1, 'uncertainty':0}\n",
        "second_measure = {'value':60.00 , 'uncertainty':0.01}\n",
        "\n",
        "time = division(first_measure, second_measure)\n",
        "time"
      ],
      "execution_count": 0,
      "outputs": [
        {
          "output_type": "stream",
          "text": [
            "> <ipython-input-2-7176c9ea10cc>(51)division()\n",
            "-> return final_measure\n",
            "(Pdb) c\n"
          ],
          "name": "stdout"
        },
        {
          "output_type": "execute_result",
          "data": {
            "text/plain": [
              "{'uncertainty': 2.777777777778e-06, 'value': 0.016666666666666666}"
            ]
          },
          "metadata": {
            "tags": []
          },
          "execution_count": 4
        }
      ]
    },
    {
      "cell_type": "markdown",
      "metadata": {
        "id": "3k833hjN1W97",
        "colab_type": "text"
      },
      "source": [
        "Todavia, estamos trabalhando com intervalos de tempo que são $\\frac{1}{30}$, pois utilizamos um intervalo com duas medidas, desta forma precisamos multiplicar por 2"
      ]
    },
    {
      "cell_type": "code",
      "metadata": {
        "id": "sTESRd9F1gX2",
        "colab_type": "code",
        "outputId": "0f39a6f8-e30c-41ae-f4ab-6e49a1947078",
        "colab": {
          "base_uri": "https://localhost:8080/",
          "height": 35
        }
      },
      "source": [
        "from math import pi\n",
        "\n",
        "time_interval = multplication([time], 5)\n",
        "time_interval"
      ],
      "execution_count": 0,
      "outputs": [
        {
          "output_type": "execute_result",
          "data": {
            "text/plain": [
              "{'uncertainty': 1.388888888889e-05, 'value': 0.08333333333333333}"
            ]
          },
          "metadata": {
            "tags": []
          },
          "execution_count": 5
        }
      ]
    },
    {
      "cell_type": "markdown",
      "metadata": {
        "id": "sh-F48mP18ZK",
        "colab_type": "text"
      },
      "source": [
        "##### Incerteza da régua\n",
        "\n",
        "A incerteza da régua é a metade da menor unidade, desta forma, $0,5mm$"
      ]
    },
    {
      "cell_type": "code",
      "metadata": {
        "id": "v7b3lfg-2McA",
        "colab_type": "code",
        "colab": {}
      },
      "source": [
        "ruler_sigma = 0.05"
      ],
      "execution_count": 0,
      "outputs": []
    },
    {
      "cell_type": "markdown",
      "metadata": {
        "id": "_CxpSJtA2Rg9",
        "colab_type": "text"
      },
      "source": [
        "#### Incerteza da medida\n",
        "\n",
        "$\\sigma_{\\Delta s} = \\sqrt{\\sigma_{regua}^2 + \\sigma_{faísca}^2}$"
      ]
    },
    {
      "cell_type": "code",
      "metadata": {
        "id": "bIqukLqo2fbj",
        "colab_type": "code",
        "outputId": "41e91c2f-533c-4a59-ea44-1f8fa7be6f69",
        "colab": {
          "base_uri": "https://localhost:8080/",
          "height": 35
        }
      },
      "source": [
        "from math import sqrt\n",
        "\n",
        "sigma_resultant = round(sqrt(ruler_sigma**2 + 0.1**2), 3)\n",
        "sigma_resultant"
      ],
      "execution_count": 0,
      "outputs": [
        {
          "output_type": "execute_result",
          "data": {
            "text/plain": [
              "0.112"
            ]
          },
          "metadata": {
            "tags": []
          },
          "execution_count": 7
        }
      ]
    },
    {
      "cell_type": "markdown",
      "metadata": {
        "id": "j_uxYTJv3rB5",
        "colab_type": "text"
      },
      "source": [
        "### Incerteza da Velocidade\n",
        "\n",
        "$v = \\frac{\\Delta s}{\\Delta t}$\n",
        "\n",
        "$\\sigma_v = v*\\sqrt{(\\frac{\\sigma_{\\Delta s}}{\\Delta s})^2 + \\frac{\\sigma_{\\Delta t}}{\\Delta t})^2}$\n",
        "\n"
      ]
    },
    {
      "cell_type": "markdown",
      "metadata": {
        "id": "k4TqhXXzN98A",
        "colab_type": "text"
      },
      "source": [
        "#### Resolvendo o experimetno"
      ]
    },
    {
      "cell_type": "code",
      "metadata": {
        "id": "BlsjIgcOOAEy",
        "colab_type": "code",
        "outputId": "4228c023-4fc2-4d8b-9689-f14fa1ff1a8f",
        "colab": {
          "base_uri": "https://localhost:8080/",
          "height": 994
        }
      },
      "source": [
        "import matplotlib.pyplot as plt\n",
        "import numpy as np\n",
        "import xlwt\n",
        "\n",
        "from decimal import Decimal\n",
        "from sklearn.linear_model import LinearRegression\n",
        "\n",
        "data = [{'time':1, 'measure':7.9}, {'time':2, 'measure':8.43}, \\\n",
        "        {'time':5, 'measure':10.10}, {'time':6, 'measure':10.65},\\\n",
        "        {'time':9, 'measure':12.30},{'time':10, 'measure':12.83},\\\n",
        "        {'time':13, 'measure':14.40},{'time':14, 'measure':14.90},\\\n",
        "        {'time':17, 'measure':16.60},{'time':18, 'measure':17.08}]\n",
        "\n",
        "def plot_graph(experiment_data):\n",
        "  velocity = []\n",
        "  time = []\n",
        "  for data in experiment_data:\n",
        "    velocity.append(data['velocity']['value'])\n",
        "    time.append(data['time']['time'])\n",
        "  \n",
        "  fig = plt.figure(figsize=(8,12),dpi=80)\n",
        "  fig.suptitle('Evolução da velocidade do \"ovo\" com o tempo')\n",
        "  ax1 = fig.add_subplot(3, 1, 1)\n",
        "  ax1.set_ylabel('Velocidade(cm/s)')\n",
        "  ax1.set_xlabel('Tempo(s)')\n",
        "  ax1.plot(time, velocity, marker='.')\n",
        "  fig.savefig('grafico')\n",
        "  print(f'Velocidade maxima {max(velocity)/100}')\n",
        "\n",
        "def linear_regreassion(experiment_data):\n",
        "  velocity = []\n",
        "  time = []\n",
        "  for data in experiment_data:\n",
        "    velocity.append(data['velocity']['value'])\n",
        "    time.append(data['time']['time'])\n",
        "\n",
        "  model = LinearRegression()\n",
        "  time, velocity = np.array(time).reshape((-1, 1)), np.array(velocity)\n",
        "  model.fit(time, velocity)\n",
        "\n",
        "  space = np.linspace(0, 0.4, 1000)\n",
        "  value = model.intercept_ + model.coef_[0]*space\n",
        "  fig = plt.figure(figsize=(8, 12),dpi=80)\n",
        "  fig.suptitle(f'Velocidade por tempo: {round(model.intercept_, 2)} + {round(model.coef_[0], 2)}*x')\n",
        "  ax1 = fig.add_subplot(3, 1, 1)\n",
        "  ax1.set_ylabel('Velocidade(cm/s)')\n",
        "  ax1.set_xlabel('Tempo(s)')\n",
        "  ax1.plot(space, value)\n",
        "  fig.savefig('reglinear')\n",
        "  print(f'Velocidade da regressão linear em t0 {value[0]}')\n",
        "  print(f'Valor da gravidade calculado {round(model.coef_[0]/100, 4)} +/- {round(model.coef_[0]/100*0.0005, 4)}')\n",
        "\n",
        "def generate_table(experimental_data):\n",
        "  # Load the Drive helper and mount\n",
        "  from google.colab import drive\n",
        "\n",
        "  # This will prompt for authorization.\n",
        "  drive.mount('/content/drive')\n",
        "\n",
        "  style = xlwt.XFStyle()\n",
        "  # font\n",
        "  font = xlwt.Font()\n",
        "  font.bold = True\n",
        "  style.font = font\n",
        "\n",
        "  \n",
        "  workbook = xlwt.Workbook()\n",
        "  worksheet = workbook.add_sheet('Dados')\n",
        "\n",
        "  row = 0\n",
        "  col = 0\n",
        "  worksheet.write(0, 0, 'tn (s)', style=style), \n",
        "  worksheet.write(0, 1, '𝜎tn (s)', style=style)\n",
        "  worksheet.write(0, 2, 'ΔSn (cm)', style=style)\n",
        "  worksheet.write(0, 3, '𝜎∆Sn (cm)', style=style)\n",
        "  worksheet.write(0, 4, 'vn= ΔSn/Δtn (cm/s)', style=style)\n",
        "  worksheet.write(0, 5, '𝜎vn (cm/s)', style=style)\n",
        "  worksheet.write(0, 6, 'vn ± σvn (cm/s)', style=style)\n",
        "  # Iterate over the data and write it out row by row.\n",
        "  for idx, item in enumerate(experimental_data):\n",
        "    worksheet.write(idx+1, 0, item['time']['str'])\n",
        "    worksheet.write(idx+1, 1, '%.2E' % Decimal(item['time']['uncertainty']))\n",
        "    worksheet.write(idx+1, 2, '%.2F' % Decimal(item['space_measure']['value']))\n",
        "    worksheet.write(idx+1, 3, item['space_measure']['uncertainty'])\n",
        "    worksheet.write(idx+1, 4, '%.2F' % Decimal(item['velocity']['value']))\n",
        "    worksheet.write(idx+1, 5, '%.2F' % Decimal(item['velocity']['uncertainty']))\n",
        "    worksheet.write(idx+1, 6, f'{round(item[\"velocity\"][\"value\"], 1)} ± {round(item[\"velocity\"][\"uncertainty\"], 1)}')\n",
        "\n",
        "  workbook.save('FisicaA.xls')\n",
        "\n",
        "experiment_results = []\n",
        "for value in data:\n",
        "  current_value = {'velocity':None, 'time': None, 'measure':None}\n",
        "  time_uncertanty = multplication([time], value['time'], 8)['uncertainty']\n",
        "  \n",
        "  time_measure = {'value':1/30, 'uncertainty':time_uncertanty, 'time': value['time']*1/60, 'str': f'{value[\"time\"]*1}/60'}\n",
        "  space_measure = {'value':value['measure'], 'uncertainty':sigma_resultant}\n",
        "\n",
        "  velocity = division(space_measure, time_measure, 2)\n",
        "  current_value['velocity'] = velocity\n",
        "  current_value['time'] = time_measure\n",
        "  current_value['space_measure'] = space_measure\n",
        "  experiment_results.append(current_value)\n",
        "  print(current_value)\n",
        "\n",
        "generate_table(experiment_results)\n",
        "linear_regreassion(experiment_results)\n",
        "plot_graph(experiment_results)\n",
        "\n",
        "  "
      ],
      "execution_count": 0,
      "outputs": [
        {
          "output_type": "stream",
          "text": [
            "{'velocity': {'value': 237.0, 'uncertainty': 3.36}, 'time': {'value': 0.03333333333333333, 'uncertainty': 2.78e-06, 'time': 0.016666666666666666, 'str': '1/60'}, 'measure': None, 'space_measure': {'value': 7.9, 'uncertainty': 0.112}}\n",
            "{'velocity': {'value': 252.9, 'uncertainty': 3.36}, 'time': {'value': 0.03333333333333333, 'uncertainty': 5.56e-06, 'time': 0.03333333333333333, 'str': '2/60'}, 'measure': None, 'space_measure': {'value': 8.43, 'uncertainty': 0.112}}\n",
            "{'velocity': {'value': 303.0, 'uncertainty': 3.36}, 'time': {'value': 0.03333333333333333, 'uncertainty': 1.389e-05, 'time': 0.08333333333333333, 'str': '5/60'}, 'measure': None, 'space_measure': {'value': 10.1, 'uncertainty': 0.112}}\n",
            "{'velocity': {'value': 319.5, 'uncertainty': 3.36}, 'time': {'value': 0.03333333333333333, 'uncertainty': 1.667e-05, 'time': 0.1, 'str': '6/60'}, 'measure': None, 'space_measure': {'value': 10.65, 'uncertainty': 0.112}}\n",
            "{'velocity': {'value': 369.0, 'uncertainty': 3.37}, 'time': {'value': 0.03333333333333333, 'uncertainty': 2.5e-05, 'time': 0.15, 'str': '9/60'}, 'measure': None, 'space_measure': {'value': 12.3, 'uncertainty': 0.112}}\n",
            "{'velocity': {'value': 384.9, 'uncertainty': 3.38}, 'time': {'value': 0.03333333333333333, 'uncertainty': 2.778e-05, 'time': 0.16666666666666666, 'str': '10/60'}, 'measure': None, 'space_measure': {'value': 12.83, 'uncertainty': 0.112}}\n",
            "{'velocity': {'value': 432.0, 'uncertainty': 3.39}, 'time': {'value': 0.03333333333333333, 'uncertainty': 3.611e-05, 'time': 0.21666666666666667, 'str': '13/60'}, 'measure': None, 'space_measure': {'value': 14.4, 'uncertainty': 0.112}}\n",
            "{'velocity': {'value': 447.0, 'uncertainty': 3.4}, 'time': {'value': 0.03333333333333333, 'uncertainty': 3.889e-05, 'time': 0.23333333333333334, 'str': '14/60'}, 'measure': None, 'space_measure': {'value': 14.9, 'uncertainty': 0.112}}\n",
            "{'velocity': {'value': 498.0, 'uncertainty': 3.43}, 'time': {'value': 0.03333333333333333, 'uncertainty': 4.722e-05, 'time': 0.2833333333333333, 'str': '17/60'}, 'measure': None, 'space_measure': {'value': 16.6, 'uncertainty': 0.112}}\n",
            "{'velocity': {'value': 512.4, 'uncertainty': 3.45}, 'time': {'value': 0.03333333333333333, 'uncertainty': 5e-05, 'time': 0.3, 'str': '18/60'}, 'measure': None, 'space_measure': {'value': 17.08, 'uncertainty': 0.112}}\n",
            "Drive already mounted at /content/drive; to attempt to forcibly remount, call drive.mount(\"/content/drive\", force_remount=True).\n",
            "Velocidade da regressão linear em t0 221.54186046511637\n",
            "Valor da gravidade calculado 9.7281 +/- 0.0049\n",
            "Velocidade maxima 5.124\n"
          ],
          "name": "stdout"
        },
        {
          "output_type": "display_data",
          "data": {
            "image/png": "[encoded data removed]",
            "text/plain": [
              "<Figure size 640x960 with 1 Axes>"
            ]
          },
          "metadata": {
            "tags": [],
            "needs_background": "light"
          }
        },
        {
          "output_type": "display_data",
          "data": {
            "image/png": "[encoded data removed]",
            "text/plain": [
              "<Figure size 640x960 with 1 Axes>"
            ]
          },
          "metadata": {
            "tags": [],
            "needs_background": "light"
          }
        }
      ]
    },
    {
      "cell_type": "code",
      "metadata": {
        "id": "_oL-9SW9fMsH",
        "colab_type": "code",
        "outputId": "6c6cfe7d-85d0-4b37-c077-1e682b8368c3",
        "colab": {
          "base_uri": "https://localhost:8080/",
          "height": 52
        }
      },
      "source": [
        "from math import pi\n",
        "\n",
        "m = 71.9/1000                           # massa do ovo(kg)\n",
        "g = 9.7864                              # constante de gravidade\n",
        "r = 28.3/1000                           # raio maior do ovo(m)\n",
        "coef_viscosidade_ar = 1.849*10**-5      # coef de viscosidade do ar 300K\n",
        "densidade_ar = 1.161                    # kg/m^3\n",
        "max_vel = 5.124                         # velocidade maxima m/s\n",
        "\n",
        "volume = 4/3 * pi*r**3                  # volume do ovo\n",
        "\n",
        "atrito_viscoso = 6*pi*coef_viscosidade_ar*r*max_vel\n",
        "empuxo = volume*densidade_ar*g\n",
        "peso = m*g\n",
        "\n",
        "print(f'Força peso: {round(peso, 4)} N. Força de atrito: {round(atrito_viscoso, 4)} N. Empuxo: {round(empuxo, 4)} N')\n",
        "print(f'Força resultante: {round(peso-atrito_viscoso-empuxo, 4)}')"
      ],
      "execution_count": 0,
      "outputs": [
        {
          "output_type": "stream",
          "text": [
            "Força peso: 0.7036 N. Força de atrito: 0.0001 N. Empuxo: 0.0011 N\n",
            "Força resultante: 0.7025\n"
          ],
          "name": "stdout"
        }
      ]
    }
  ]
}